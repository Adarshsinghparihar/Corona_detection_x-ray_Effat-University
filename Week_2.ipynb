{
  "nbformat": 4,
  "nbformat_minor": 0,
  "metadata": {
    "colab": {
      "name": "Week 2.ipynb",
      "provenance": [],
      "authorship_tag": "ABX9TyN8gOLDVq7fJwnYxbzMQL96",
      "include_colab_link": true
    },
    "kernelspec": {
      "name": "python3",
      "display_name": "Python 3"
    }
  },
  "cells": [
    {
      "cell_type": "markdown",
      "metadata": {
        "id": "view-in-github",
        "colab_type": "text"
      },
      "source": [
        "<a href=\"https://colab.research.google.com/github/Adarshsinghparihar/Corona_detection_x-ray_Effat-University/blob/master/Week_2.ipynb\" target=\"_parent\"><img src=\"https://colab.research.google.com/assets/colab-badge.svg\" alt=\"Open In Colab\"/></a>"
      ]
    },
    {
      "cell_type": "code",
      "metadata": {
        "id": "AUCDFduDAWBk",
        "colab_type": "code",
        "colab": {
          "base_uri": "https://localhost:8080/",
          "height": 129
        },
        "outputId": "dddccca9-98ad-4c9a-aa92-c34228857896"
      },
      "source": [
        "from google.colab import drive\n",
        "drive.mount('/content/drive')\n",
        "path = '/content/drive/My Drive/covid-19/'"
      ],
      "execution_count": null,
      "outputs": [
        {
          "output_type": "stream",
          "text": [
            "Go to this URL in a browser: https://accounts.google.com/o/oauth2/auth?client_id=947318989803-6bn6qk8qdgf4n4g3pfee6491hc0brc4i.apps.googleusercontent.com&redirect_uri=urn%3aietf%3awg%3aoauth%3a2.0%3aoob&response_type=code&scope=email%20https%3a%2f%2fwww.googleapis.com%2fauth%2fdocs.test%20https%3a%2f%2fwww.googleapis.com%2fauth%2fdrive%20https%3a%2f%2fwww.googleapis.com%2fauth%2fdrive.photos.readonly%20https%3a%2f%2fwww.googleapis.com%2fauth%2fpeopleapi.readonly\n",
            "\n",
            "Enter your authorization code:\n",
            "··········\n",
            "Mounted at /content/drive\n"
          ],
          "name": "stdout"
        }
      ]
    },
    {
      "cell_type": "code",
      "metadata": {
        "id": "7os90swN9gv4",
        "colab_type": "code",
        "colab": {
          "base_uri": "https://localhost:8080/",
          "height": 74
        },
        "outputId": "62f1f625-31d4-426c-fbde-8c28ab22d949"
      },
      "source": [
        "import cv2\n",
        "from PIL import Image\n",
        "from os import listdir\n",
        "import skimage\n",
        "from skimage.transform import resize\n",
        "import numpy as np\n",
        "from tqdm import tqdm\n",
        "import matplotlib.pyplot as plt\n",
        "import seaborn as sns\n",
        "sns.set()\n",
        "import os"
      ],
      "execution_count": null,
      "outputs": [
        {
          "output_type": "stream",
          "text": [
            "/usr/local/lib/python3.6/dist-packages/statsmodels/tools/_testing.py:19: FutureWarning: pandas.util.testing is deprecated. Use the functions in the public API at pandas.testing instead.\n",
            "  import pandas.util.testing as tm\n"
          ],
          "name": "stderr"
        }
      ]
    },
    {
      "cell_type": "code",
      "metadata": {
        "colab_type": "code",
        "id": "Wv6U8gG4m00q",
        "colab": {}
      },
      "source": [
        "from sklearn.model_selection import train_test_split, KFold\n",
        "from sklearn.utils import shuffle\n",
        "from sklearn.metrics import confusion_matrix"
      ],
      "execution_count": null,
      "outputs": []
    },
    {
      "cell_type": "code",
      "metadata": {
        "id": "zqsuXaUNmMWC",
        "colab_type": "code",
        "colab": {}
      },
      "source": [
        "def get_data(folder, X=[], y=[]):\n",
        " \n",
        "  for folderName in listdir(folder)[:2]:\n",
        "    # print(folderName) - used for debugging purposes\n",
        "    if not folderName.startswith('.') and not folderName.endswith('.ipynb'): # to not consider .DS_Store and .ipynb files\n",
        "      if folderName in ['normal']:\n",
        "        label = 0\n",
        "      elif folderName in ['corona']:\n",
        "        label = 1\n",
        "      # elif folderName in ['normal']:\n",
        "        # label = 2 # for all other types of pnuemonia - label 2 is to be used later on\n",
        "      # print(label) - used for debugging purposes\n",
        "      for image_filename in tqdm(listdir(folder + folderName)):\n",
        "        img_file = cv2.imread(folder + folderName + '/' + image_filename)\n",
        "        if img_file is not None:\n",
        "          img_file = skimage.transform.resize(img_file, (224, 224, 3))\n",
        "          img_arr = np.asarray(img_file)\n",
        "          X.append(img_arr)\n",
        "          y.append(label)\n",
        "  X = np.asarray(X)\n",
        "  y = np.asarray(y)\n",
        "  return X,y\n"
      ],
      "execution_count": null,
      "outputs": []
    },
    {
      "cell_type": "code",
      "metadata": {
        "colab_type": "code",
        "id": "Py8nsLnhma8F",
        "colab": {
          "base_uri": "https://localhost:8080/",
          "height": 54
        },
        "outputId": "cd2ae508-86a0-4f37-e188-6e890444315a"
      },
      "source": [
        "X,y = get_data(path)\n",
        "print(len(X), len(y))\n"
      ],
      "execution_count": null,
      "outputs": [
        {
          "output_type": "stream",
          "text": [
            "100%|██████████| 287/287 [02:10<00:00,  2.21it/s]\n",
            "100%|██████████| 1595/1595 [08:19<00:00,  3.19it/s]\n"
          ],
          "name": "stderr"
        }
      ]
    },
    {
      "cell_type": "code",
      "metadata": {
        "id": "r9F_XfXvT5YU",
        "colab_type": "code",
        "colab": {}
      },
      "source": [
        "y = to_categorical(y, num_classes=2)  \n",
        "X_train, X_test, y_train, y_test = train_test_split(*shuffle(X, y), test_size=0.1, random_state=1234)"
      ],
      "execution_count": null,
      "outputs": []
    },
    {
      "cell_type": "markdown",
      "metadata": {
        "id": "5kjEPgyTGJ_D",
        "colab_type": "text"
      },
      "source": [
        "# Model 1\n"
      ]
    },
    {
      "cell_type": "code",
      "metadata": {
        "id": "rzko3_lZGP2Z",
        "colab_type": "code",
        "colab": {
          "base_uri": "https://localhost:8080/",
          "height": 513
        },
        "outputId": "044b3a72-a99c-4a60-d7a5-44e69933d57c"
      },
      "source": [
        "# Importing the Keras libraries and packages\n",
        "from keras.models import Sequential\n",
        "from keras.layers import Conv2D\n",
        "from keras.layers import MaxPooling2D\n",
        "from keras.layers import Flatten\n",
        "from keras.layers import Dense\n",
        "from keras.layers.core import Flatten, Dense, Dropout\n",
        "from keras.layers.convolutional import Convolution2D, MaxPooling2D, ZeroPadding2D\n",
        "from keras.optimizers import SGD\n",
        "from keras.callbacks import ModelCheckpoint\n",
        "# from tensorflow.keras.callbacks import ModelCheckpoint\n",
        "\n",
        "# Initialising the CNN\n",
        "classifier = Sequential()\n",
        "\n",
        "# Step 1 - Convolution\n",
        "classifier.add(Conv2D(32, (3, 3), input_shape = (224,224,3), activation = 'relu'))\n",
        "\n",
        "# Step 2 - Pooling\n",
        "classifier.add(MaxPooling2D(pool_size = (2, 2)))\n",
        "\n",
        "# Adding a second convolutional layer\n",
        "classifier.add(Conv2D(32, (3, 3), activation = 'relu'))\n",
        "classifier.add(MaxPooling2D(pool_size = (2, 2)))\n",
        "\n",
        "classifier.add(Conv2D(32, (3, 3), activation = 'relu'))\n",
        "classifier.add(MaxPooling2D(pool_size = (2, 2)))\n",
        "\n",
        "# Step 3 - Flattening\n",
        "classifier.add(Flatten())\n",
        "\n",
        "# Step 4 - Full connection\n",
        "classifier.add(Dense(units = 128, activation = 'relu'))\n",
        "classifier.add(Dense(units = 2, activation = 'sigmoid'))\n",
        "\n",
        "\n",
        "# Compiling the CNN\n",
        "classifier.compile(optimizer = 'adam', loss = 'binary_crossentropy', metrics = ['accuracy'])\n",
        "print(classifier.summary())"
      ],
      "execution_count": null,
      "outputs": [
        {
          "output_type": "stream",
          "text": [
            "Model: \"sequential_1\"\n",
            "_________________________________________________________________\n",
            "Layer (type)                 Output Shape              Param #   \n",
            "=================================================================\n",
            "conv2d_1 (Conv2D)            (None, 222, 222, 32)      896       \n",
            "_________________________________________________________________\n",
            "max_pooling2d_1 (MaxPooling2 (None, 111, 111, 32)      0         \n",
            "_________________________________________________________________\n",
            "conv2d_2 (Conv2D)            (None, 109, 109, 32)      9248      \n",
            "_________________________________________________________________\n",
            "max_pooling2d_2 (MaxPooling2 (None, 54, 54, 32)        0         \n",
            "_________________________________________________________________\n",
            "conv2d_3 (Conv2D)            (None, 52, 52, 32)        9248      \n",
            "_________________________________________________________________\n",
            "max_pooling2d_3 (MaxPooling2 (None, 26, 26, 32)        0         \n",
            "_________________________________________________________________\n",
            "flatten_1 (Flatten)          (None, 21632)             0         \n",
            "_________________________________________________________________\n",
            "dense_1 (Dense)              (None, 128)               2769024   \n",
            "_________________________________________________________________\n",
            "dense_2 (Dense)              (None, 2)                 258       \n",
            "=================================================================\n",
            "Total params: 2,788,674\n",
            "Trainable params: 2,788,674\n",
            "Non-trainable params: 0\n",
            "_________________________________________________________________\n",
            "None\n"
          ],
          "name": "stdout"
        }
      ]
    },
    {
      "cell_type": "code",
      "metadata": {
        "id": "RkRR2BknJHzc",
        "colab_type": "code",
        "colab": {
          "base_uri": "https://localhost:8080/",
          "height": 403
        },
        "outputId": "bff216ec-8b7f-414a-87d3-da4ac146c884"
      },
      "source": [
        "\n",
        "# checkpoint_path = \"model_1.ckpt\"\n",
        "# checkpoint_dir = os.path.dirname(checkpoint_path)\n",
        "\n",
        "# # Create a callback that saves the model's weights\n",
        "# cp_callback = tf.keras.callbacks.ModelCheckpoint(filepath=checkpoint_path,\n",
        "#                                                  save_weights_only=True,\n",
        "#                                                  verbose=1)\n",
        "\n",
        "history= classifier.fit(X_train, y_train, epochs=10, verbose=1, validation_split=0.1,shuffle = True)"
      ],
      "execution_count": null,
      "outputs": [
        {
          "output_type": "stream",
          "text": [
            "Train on 1523 samples, validate on 170 samples\n",
            "Epoch 1/10\n",
            "1523/1523 [==============================] - 10s 7ms/step - loss: 0.2606 - accuracy: 0.9025 - val_loss: 0.2731 - val_accuracy: 0.9294\n",
            "Epoch 2/10\n",
            "1523/1523 [==============================] - 3s 2ms/step - loss: 0.0774 - accuracy: 0.9721 - val_loss: 0.2672 - val_accuracy: 0.9206\n",
            "Epoch 3/10\n",
            "1523/1523 [==============================] - 3s 2ms/step - loss: 0.0505 - accuracy: 0.9800 - val_loss: 0.0957 - val_accuracy: 0.9706\n",
            "Epoch 4/10\n",
            "1523/1523 [==============================] - 3s 2ms/step - loss: 0.0478 - accuracy: 0.9862 - val_loss: 0.3592 - val_accuracy: 0.8882\n",
            "Epoch 5/10\n",
            "1523/1523 [==============================] - 3s 2ms/step - loss: 0.0890 - accuracy: 0.9698 - val_loss: 0.1161 - val_accuracy: 0.9618\n",
            "Epoch 6/10\n",
            "1523/1523 [==============================] - 3s 2ms/step - loss: 0.0475 - accuracy: 0.9810 - val_loss: 0.1148 - val_accuracy: 0.9647\n",
            "Epoch 7/10\n",
            "1523/1523 [==============================] - 3s 2ms/step - loss: 0.0365 - accuracy: 0.9885 - val_loss: 0.1051 - val_accuracy: 0.9706\n",
            "Epoch 8/10\n",
            "1523/1523 [==============================] - 3s 2ms/step - loss: 0.0225 - accuracy: 0.9918 - val_loss: 0.1128 - val_accuracy: 0.9706\n",
            "Epoch 9/10\n",
            "1523/1523 [==============================] - 3s 2ms/step - loss: 0.0134 - accuracy: 0.9964 - val_loss: 0.1258 - val_accuracy: 0.9706\n",
            "Epoch 10/10\n",
            "1523/1523 [==============================] - 3s 2ms/step - loss: 0.0108 - accuracy: 0.9964 - val_loss: 0.1719 - val_accuracy: 0.9529\n"
          ],
          "name": "stdout"
        }
      ]
    },
    {
      "cell_type": "code",
      "metadata": {
        "colab_type": "code",
        "id": "R636hIj45kDA",
        "colab": {
          "base_uri": "https://localhost:8080/",
          "height": 301
        },
        "outputId": "d5fba956-b8db-41ce-9c49-f00f550702be"
      },
      "source": [
        "plt.plot(history.history['loss'])\n",
        "plt.plot(history.history['val_loss'])\n",
        "plt.title('model_3 loss')\n",
        "plt.ylabel('loss')\n",
        "plt.xlabel('epoch')\n",
        "plt.legend(['train', 'test'], loc='upper left')\n",
        "plt.show()"
      ],
      "execution_count": null,
      "outputs": [
        {
          "output_type": "display_data",
          "data": {
            "image/png": "[encoded data removed]",
            "text/plain": [
              "<Figure size 432x288 with 1 Axes>"
            ]
          },
          "metadata": {
            "tags": []
          }
        }
      ]
    },
    {
      "cell_type": "code",
      "metadata": {
        "colab_type": "code",
        "id": "XX3Eq_PJ5kDQ",
        "colab": {
          "base_uri": "https://localhost:8080/",
          "height": 585
        },
        "outputId": "52fc2981-81ef-4e4b-a33a-a520f0e18940"
      },
      "source": [
        "plt.plot(history.history['accuracy'])\n",
        "plt.plot(history.history['val_accuracy'])\n",
        "plt.title('model_3 accuracy')\n",
        "plt.ylabel('accuracy')\n",
        "plt.xlabel('epoch')\n",
        "plt.legend(['train', 'test'], loc='upper left')\n",
        "plt.show()\n",
        "# summarize history for loss\n",
        "plt.plot(history.history['loss'])\n",
        "plt.plot(history.history['val_loss'])\n",
        "plt.title('model_1 loss')\n",
        "plt.ylabel('loss')\n",
        "plt.xlabel('epoch')\n",
        "plt.legend(['train', 'test'], loc='upper left')\n",
        "plt.show()"
      ],
      "execution_count": null,
      "outputs": [
        {
          "output_type": "display_data",
          "data": {
            "image/png": "[encoded data removed]",
            "text/plain": [
              "<Figure size 432x288 with 1 Axes>"
            ]
          },
          "metadata": {
            "tags": []
          }
        },
        {
          "output_type": "display_data",
          "data": {
            "image/png": "[encoded data removed]",
            "text/plain": [
              "<Figure size 432x288 with 1 Axes>"
            ]
          },
          "metadata": {
            "tags": []
          }
        }
      ]
    },
    {
      "cell_type": "code",
      "metadata": {
        "id": "ZR71nPt87Elt",
        "colab_type": "code",
        "colab": {
          "base_uri": "https://localhost:8080/",
          "height": 54
        },
        "outputId": "aadb1156-2fc2-4f00-9c9d-e35b487d4e82"
      },
      "source": [
        "import keras\n",
        "y_pred_test = classifier.predict(X_test)\n",
        "print('Score test: ', classifier.evaluate(X_test, y_test))\n"
      ],
      "execution_count": null,
      "outputs": [
        {
          "output_type": "stream",
          "text": [
            "189/189 [==============================] - 0s 948us/step\n",
            "Score test:  [0.047061153189845814, 0.9735449552536011]\n"
          ],
          "name": "stdout"
        }
      ]
    },
    {
      "cell_type": "code",
      "metadata": {
        "colab_type": "code",
        "id": "exZrEQB15kDb",
        "colab": {
          "base_uri": "https://localhost:8080/",
          "height": 127
        },
        "outputId": "4eeea3c5-bbc9-4f49-d17e-a6513229c555"
      },
      "source": [
        "BS= 32\n",
        "# make predictions on the testing set\n",
        "print(\"[INFO] evaluating network...\")\n",
        "predIdxs = classifier.predict(X_test)\n",
        "\n",
        "# for each image in the testing set we need to find the index of the\n",
        "# label with corresponding largest predicted probability\n",
        "predIdxs = np.argmax(predIdxs, axis=1)\n",
        "\n",
        "# show a nicely formatted classification report\n",
        "# print(classification_report(y_test.argmax(axis=1), predIdxs,\n",
        "\t# target_names=lb.classes_))\n",
        "\n",
        "# compute the confusion matrix and and use it to derive the raw\n",
        "# accuracy, sensitivity, and specificity\n",
        "cm = confusion_matrix(y_test.argmax(axis=1), predIdxs)\n",
        "total = sum(sum(cm))\n",
        "acc = (cm[0, 0] + cm[1, 1]) / total\n",
        "sensitivity = cm[0, 0] / (cm[0, 0] + cm[0, 1])\n",
        "specificity = cm[1, 1] / (cm[1, 0] + cm[1, 1])\n",
        "\n",
        "# show the confusion matrix, accuracy, sensitivity, and specificity\n",
        "print(cm)\n",
        "print(\"acc: {:.4f}\".format(acc))\n",
        "print(\"sensitivity: {:.4f}\".format(sensitivity))\n",
        "print(\"specificity: {:.4f}\".format(specificity))\n"
      ],
      "execution_count": null,
      "outputs": [
        {
          "output_type": "stream",
          "text": [
            "[INFO] evaluating network...\n",
            "[[157   3]\n",
            " [  2  27]]\n",
            "acc: 0.9735\n",
            "sensitivity: 0.9812\n",
            "specificity: 0.9310\n"
          ],
          "name": "stdout"
        }
      ]
    },
    {
      "cell_type": "code",
      "metadata": {
        "colab_type": "code",
        "id": "RoLKXis25kDl",
        "colab": {
          "base_uri": "https://localhost:8080/",
          "height": 74
        },
        "outputId": "fcf2280b-6b51-491c-efc1-5c388f40f5b7"
      },
      "source": [
        "print(history.history['loss'])\n",
        "print(history.history['accuracy'])"
      ],
      "execution_count": null,
      "outputs": [
        {
          "output_type": "stream",
          "text": [
            "[0.2272319290288886, 0.07499084472702584, 0.06299725269426161, 0.06166250388999817, 0.1894335169831652, 0.06701583516742311, 0.04345411010346009, 0.04264272380254199, 0.02087045601911991, 0.019413405022148358, 0.014248731765323852, 0.008134581121113336, 0.005923063213158819, 0.004830541986827196, 0.0032461814670347137]\n",
            "[0.9023632, 0.97139305, 0.97699004, 0.97761196, 0.9421642, 0.9726368, 0.98507464, 0.9844527, 0.9925373, 0.994403, 0.99502486, 0.9981343, 0.99875623, 0.99875623, 0.99875623]\n"
          ],
          "name": "stdout"
        }
      ]
    },
    {
      "cell_type": "code",
      "metadata": {
        "colab_type": "code",
        "id": "-mImnCXR5kDr",
        "colab": {
          "base_uri": "https://localhost:8080/",
          "height": 35
        },
        "outputId": "67c22c6d-88bf-4a0c-adba-9c5aea74a8ae"
      },
      "source": [
        "score_model = classifier.evaluate(x=X_test, y=y_test)"
      ],
      "execution_count": null,
      "outputs": [
        {
          "output_type": "stream",
          "text": [
            "189/189 [==============================] - 0s 1ms/step\n"
          ],
          "name": "stdout"
        }
      ]
    },
    {
      "cell_type": "code",
      "metadata": {
        "colab_type": "code",
        "id": "MC6m0Rqs5kD0",
        "colab": {
          "base_uri": "https://localhost:8080/",
          "height": 72
        },
        "outputId": "52e346ad-bd30-4410-eea9-c60d0edb65b9"
      },
      "source": [
        "met = list(zip(classifier.metrics_names, score_model))\n",
        "print('Scores for test set:')\n",
        "print('{}: {:.4f}'.format(met[0][0], met[0][1]))\n",
        "print('{}: {:.4f}'.format(met[1][0], met[1][1]))"
      ],
      "execution_count": null,
      "outputs": [
        {
          "output_type": "stream",
          "text": [
            "Scores for test set:\n",
            "loss: 0.0471\n",
            "accuracy: 0.9735\n"
          ],
          "name": "stdout"
        }
      ]
    },
    {
      "cell_type": "code",
      "metadata": {
        "colab_type": "code",
        "id": "3KL6zLy85kD7",
        "colab": {
          "base_uri": "https://localhost:8080/",
          "height": 72
        },
        "outputId": "25e558ba-aacf-4aca-f964-68e76b6e0a71"
      },
      "source": [
        "print('Average scores for all epochs:')\n",
        "print('accuracy: {:.4f} (+- {:.4f})'.format(np.mean(history.history['accuracy']), np.std(history.history['accuracy'])))\n",
        "print('loss: {:.4f}'.format(np.mean(history.history['loss'])))"
      ],
      "execution_count": null,
      "outputs": [
        {
          "output_type": "stream",
          "text": [
            "Average scores for all epochs:\n",
            "accuracy: 0.9765 (+- 0.0261)\n",
            "loss: 0.0656\n"
          ],
          "name": "stdout"
        }
      ]
    },
    {
      "cell_type": "code",
      "metadata": {
        "colab_type": "code",
        "id": "b0Fg_OnV5kED",
        "colab": {
          "base_uri": "https://localhost:8080/",
          "height": 301
        },
        "outputId": "5927f9f6-f03e-4bdc-dba6-10d95c16fe0e"
      },
      "source": [
        "y_pred_test = classifier.predict(X_test)\n",
        "confmat = confusion_matrix(y_test.argmax(axis=1),y_pred_test.argmax(axis=1))\n",
        "\n",
        "#Plot Confusion Matrix \n",
        "plt.figure(figsize=(4,4))\n",
        "sns.heatmap(confmat, cmap='coolwarm', linecolor='white', linewidths=1, annot=True, fmt='d')\n",
        "plt.title('Confusion Matrix (model_3)')\n",
        "plt.ylabel('True Label')\n",
        "plt.xlabel('Predicted Label')\n",
        "fig = plt.gcf()\n",
        "fig.savefig('Confusion-Matrix-(model_1).png');\n",
        "plt.show();"
      ],
      "execution_count": null,
      "outputs": [
        {
          "output_type": "display_data",
          "data": {
            "image/png": "[encoded data removed]",
            "text/plain": [
              "<Figure size 288x288 with 2 Axes>"
            ]
          },
          "metadata": {
            "tags": []
          }
        }
      ]
    },
    {
      "cell_type": "markdown",
      "metadata": {
        "id": "NI-0_ESGSgYC",
        "colab_type": "text"
      },
      "source": [
        "#VGG 16\n"
      ]
    },
    {
      "cell_type": "code",
      "metadata": {
        "id": "KUN64_lrjfRc",
        "colab_type": "code",
        "colab": {}
      },
      "source": [
        "# import the necessary packages\n",
        "from tensorflow.keras.preprocessing.image import ImageDataGenerator\n",
        "from tensorflow.keras.applications import VGG16\n",
        "from tensorflow.keras.layers import AveragePooling2D\n",
        "from tensorflow.keras.layers import Dropout\n",
        "from tensorflow.keras.layers import Flatten\n",
        "from tensorflow.keras.layers import Dense\n",
        "from tensorflow.keras.layers import Input\n",
        "from tensorflow.keras.models import Model\n",
        "from tensorflow.keras.optimizers import Adam\n",
        "from tensorflow.keras.utils import to_categorical\n",
        "import tensorflow as tf\n",
        "from tensorflow import keras\n",
        "from sklearn.preprocessing import LabelBinarizer\n",
        "from sklearn.model_selection import train_test_split\n",
        "from sklearn.metrics import classification_report\n",
        "from sklearn.metrics import confusion_matrix\n",
        "from imutils import paths\n",
        "import matplotlib.pyplot as plt\n",
        "import numpy as np\n",
        "import argparse\n",
        "import cv2\n",
        "import os\n",
        "from tensorflow.keras.preprocessing import image\n",
        "from tensorflow.keras.models import Model\n",
        "from tensorflow.keras.layers import Dense, GlobalAveragePooling2D\n",
        "from tensorflow.keras.layers import Input"
      ],
      "execution_count": null,
      "outputs": []
    },
    {
      "cell_type": "code",
      "metadata": {
        "id": "3qPTb6XMSl9r",
        "colab_type": "code",
        "colab": {}
      },
      "source": [
        "# initialize the initial learning rate, number of epochs to train for,\n",
        "# and batch size\n",
        "INIT_LR = 1e-3\n",
        "EPOCHS = 10\n",
        "BS = 50"
      ],
      "execution_count": null,
      "outputs": []
    },
    {
      "cell_type": "code",
      "metadata": {
        "id": "Dzc6LrIShoIs",
        "colab_type": "code",
        "colab": {}
      },
      "source": [
        "# lb = LabelBinarizer()\n",
        "# labels = lb.fit_transform(y)\n",
        "# labels = to_categorical(y)\n",
        "y = to_categorical(y, num_classes=2)  "
      ],
      "execution_count": null,
      "outputs": []
    },
    {
      "cell_type": "code",
      "metadata": {
        "id": "IwGcN0Z0jQXP",
        "colab_type": "code",
        "colab": {}
      },
      "source": [
        "(trainX, testX, trainY, testY) = train_test_split(X,y,\n",
        "\ttest_size=0.05, random_state=42)"
      ],
      "execution_count": null,
      "outputs": []
    },
    {
      "cell_type": "code",
      "metadata": {
        "id": "E8ibyFWMTCX_",
        "colab_type": "code",
        "colab": {
          "base_uri": "https://localhost:8080/",
          "height": 421
        },
        "outputId": "b8c69ed6-a6e9-433e-cb06-354e72b07adb"
      },
      "source": [
        "# partition the data into training and testing splits using 80% of\n",
        "# the data for training and the remaining 20% for testing\n",
        "\n",
        "\n",
        "# initialize the training data augmentation object\n",
        "# # trainAug = ImageDataGenerator(\n",
        "# \trotation_range=15,\n",
        "# \tfill_mode=\"nearest\")\n",
        "\n",
        "# load the VGG16 network, ensuring the head FC layer sets are left\n",
        "# off\n",
        "# baseModel = VGG16(weights=\"/content/drive/My Drive/Covid-19 project/vgg16_weights_tf_dim_ordering_tf_kernels_notop.h5\", include_top=False,\n",
        "# \tinput_tensor=Input(shape=(224, 224, 3)))\n",
        "\n",
        "baseModel = VGG16(weights=\"imagenet\", include_top=False,\n",
        "\tinput_tensor=Input(shape=(224, 224, 3)))\n",
        "\n",
        "# construct the head of the model that will be placed on top of the\n",
        "# the base model\n",
        "headModel = baseModel.output\n",
        "# headModel = AveragePooling2D(pool_size=(4, 4))(headModel)\n",
        "# headModel = Flatten(name=\"flatten\")(headModel)\n",
        "# headModel = Dense(128, activation=\"relu\")(headModel)\n",
        "# headModel = Dropout(0.4)(headModel)\n",
        "# headModel = Dense(2, activation=\"softmax\")(headModel)\n",
        "headModel = GlobalAveragePooling2D()(headModel)\n",
        "headModel = Dense(128, activation='relu')(headModel)\n",
        "predictions = Dense(2, activation='softmax')(headModel)\n",
        "\n",
        "\n",
        "# place the head FC model on top of the base model (this will become\n",
        "# the actual model we will train)\n",
        "model = Model(inputs=baseModel.input, outputs=predictions)\n",
        "\n",
        "# loop over all layers in the base model and freeze them so they will\n",
        "# *not* be updated during the first training process\n",
        "for layer in baseModel.layers:\n",
        "\tlayer.trainable = False\n",
        "\n",
        "# compile our model\n",
        "print(\"[INFO] compiling model...\")\n",
        "# opt=keras.optimizers.Adam(lr=0.001, beta_1=0.9, beta_2=0.999, epsilon=1e-8)\n",
        "model.compile(loss=\"binary_crossentropy\", optimizer='adam',\n",
        "\tmetrics=[\"accuracy\"])\n",
        "\n",
        "# checkpoint_path = \"training_1/cp.ckpt\"\n",
        "# checkpoint_dir = os.path.dirname(checkpoint_path)\n",
        "\n",
        "# # Create a callback that saves the model's weights\n",
        "# cp_callback = tf.keras.callbacks.ModelCheckpoint(filepath=checkpoint_path,\n",
        "#                                                  save_weights_only=True,\n",
        "#                                                  verbose=1)\n",
        "\n",
        "\n",
        "# train the head of the network\n",
        "print(\"[INFO] training head...\")\n",
        "# H = model.fit_generator(\n",
        "# \ttrainAug.flow(trainX, trainY, batch_size=BS),\n",
        "# \tsteps_per_epoch=len(trainX) // BS,\n",
        "# \tvalidation_data=(testX, testY),\n",
        "# \tvalidation_steps=len(testX) // BS,\n",
        "# \tepochs=EPOCHS\n",
        "# \tcallbacks = [cp_callback])\n",
        "\n",
        "history= model.fit(trainX, trainY, epochs=10, verbose=1, validation_split=0.1)\n",
        "\n"
      ],
      "execution_count": null,
      "outputs": [
        {
          "output_type": "stream",
          "text": [
            "[INFO] compiling model...\n",
            "[INFO] training head...\n",
            "Epoch 1/10\n",
            "51/51 [==============================] - 19s 372ms/step - loss: 0.3851 - accuracy: 0.8240 - val_loss: 0.1933 - val_accuracy: 0.9274\n",
            "Epoch 2/10\n",
            "51/51 [==============================] - 16s 305ms/step - loss: 0.1456 - accuracy: 0.9558 - val_loss: 0.0908 - val_accuracy: 0.9777\n",
            "Epoch 3/10\n",
            "51/51 [==============================] - 16s 306ms/step - loss: 0.0867 - accuracy: 0.9733 - val_loss: 0.0580 - val_accuracy: 0.9888\n",
            "Epoch 4/10\n",
            "51/51 [==============================] - 16s 306ms/step - loss: 0.0631 - accuracy: 0.9801 - val_loss: 0.0417 - val_accuracy: 0.9888\n",
            "Epoch 5/10\n",
            "51/51 [==============================] - 16s 307ms/step - loss: 0.0499 - accuracy: 0.9857 - val_loss: 0.0324 - val_accuracy: 0.9888\n",
            "Epoch 6/10\n",
            "51/51 [==============================] - 16s 307ms/step - loss: 0.0417 - accuracy: 0.9894 - val_loss: 0.0288 - val_accuracy: 0.9888\n",
            "Epoch 7/10\n",
            "51/51 [==============================] - 16s 309ms/step - loss: 0.0370 - accuracy: 0.9913 - val_loss: 0.0225 - val_accuracy: 0.9944\n",
            "Epoch 8/10\n",
            "51/51 [==============================] - 16s 308ms/step - loss: 0.0311 - accuracy: 0.9932 - val_loss: 0.0190 - val_accuracy: 0.9944\n",
            "Epoch 9/10\n",
            "51/51 [==============================] - 16s 307ms/step - loss: 0.0276 - accuracy: 0.9925 - val_loss: 0.0166 - val_accuracy: 1.0000\n",
            "Epoch 10/10\n",
            "51/51 [==============================] - 16s 307ms/step - loss: 0.0258 - accuracy: 0.9938 - val_loss: 0.0147 - val_accuracy: 1.0000\n"
          ],
          "name": "stdout"
        }
      ]
    },
    {
      "cell_type": "code",
      "metadata": {
        "id": "cySHKjK4Yi_1",
        "colab_type": "code",
        "colab": {
          "base_uri": "https://localhost:8080/",
          "height": 72
        },
        "outputId": "03b60d95-dce0-47ed-b604-18dffa824dca"
      },
      "source": [
        "score = model.evaluate(testX,testY, verbose=0)\n",
        "print('\\nKeras CNN - accuracy:', score[1], '\\n')\n",
        "y_pred = model.predict(testX)\n",
        "# print('\\n', sklearn.metrics.classification_report(np.where(ytest > 0)[1], np.argmax(y_pred, axis=1), target_names=list(labels.values())), sep='') "
      ],
      "execution_count": null,
      "outputs": [
        {
          "output_type": "stream",
          "text": [
            "\n",
            "Keras CNN - accuracy: 0.9684210419654846 \n",
            "\n"
          ],
          "name": "stdout"
        }
      ]
    },
    {
      "cell_type": "code",
      "metadata": {
        "id": "NydgUfppZKtt",
        "colab_type": "code",
        "colab": {
          "base_uri": "https://localhost:8080/",
          "height": 374
        },
        "outputId": "f2ce11a6-6fac-4c45-98d0-e2c251a5b8d8"
      },
      "source": [
        "print(\"[INFO] evaluating network...\")\n",
        "predIdxs = model.predict(testX, batch_size=BS)\n",
        "\n",
        "# for each image in the testing set we need to find the index of the\n",
        "# label with corresponding largest predicted probability\n",
        "predIdxs = np.argmax(predIdxs, axis=1)\n",
        "\n",
        "# show a nicely formatted classification report\n",
        "# print(classification_report(testY.argmax(axis=1), predIdxs,\n",
        "\t# target_names=lb.classes_))\n",
        "\n",
        "# compute the confusion matrix and and use it to derive the raw\n",
        "# accuracy, sensitivity, and specificity\n",
        "cm = confusion_matrix(testY.argmax(axis=1), predIdxs)\n",
        "total = sum(sum(cm))\n",
        "acc = (cm[0, 0] + cm[1, 1]) / total\n",
        "sensitivity = cm[0, 0] / (cm[0, 0] + cm[0, 1])\n",
        "specificity = cm[1, 1] / (cm[1, 0] + cm[1, 1])\n",
        "\n",
        "# show the confusion matrix, accuracy, sensitivity, and specificity\n",
        "print(cm)\n",
        "print(\"acc: {:.4f}\".format(acc))\n",
        "print(\"sensitivity: {:.4f}\".format(sensitivity))\n",
        "print(\"specificity: {:.4f}\".format(specificity))\n",
        "\n",
        "# plot the training loss and accuracy\n",
        "N = EPOCHS\n",
        "plt.style.use(\"ggplot\")\n",
        "plt.figure()\n",
        "plt.plot(np.arange(0, N), H.history[\"loss\"], label=\"train_loss\")\n",
        "plt.plot(np.arange(0, N), H.history[\"val_loss\"], label=\"val_loss\")\n",
        "plt.plot(np.arange(0, N), H.history[\"accuracy\"], label=\"train_acc\")\n",
        "plt.plot(np.arange(0, N), H.history[\"val_accuracy\"], label=\"val_acc\")\n",
        "plt.title(\"Training Loss and Accuracy on COVID-19 Dataset\")\n",
        "plt.xlabel(\"Epoch #\")\n",
        "plt.ylabel(\"Loss/Accuracy\")\n",
        "plt.legend(loc=\"lower left\")\n",
        "plt.savefig(args[\"plot\"])\n",
        "\n",
        "# serialize the model to disk\n",
        "print(\"[INFO] saving COVID-19 detector model...\")\n",
        "model.save(args[\"model\"], save_format=\"h5\")"
      ],
      "execution_count": null,
      "outputs": [
        {
          "output_type": "stream",
          "text": [
            "[INFO] evaluating network...\n",
            "[[81  1]\n",
            " [ 2 11]]\n",
            "acc: 0.9684\n",
            "sensitivity: 0.9878\n",
            "specificity: 0.8462\n"
          ],
          "name": "stdout"
        },
        {
          "output_type": "error",
          "ename": "NameError",
          "evalue": "ignored",
          "traceback": [
            "\u001b[0;31m---------------------------------------------------------------------------\u001b[0m",
            "\u001b[0;31mNameError\u001b[0m                                 Traceback (most recent call last)",
            "\u001b[0;32m<ipython-input-14-6fa183b997d1>\u001b[0m in \u001b[0;36m<module>\u001b[0;34m()\u001b[0m\n\u001b[1;32m     28\u001b[0m \u001b[0mplt\u001b[0m\u001b[0;34m.\u001b[0m\u001b[0mstyle\u001b[0m\u001b[0;34m.\u001b[0m\u001b[0muse\u001b[0m\u001b[0;34m(\u001b[0m\u001b[0;34m\"ggplot\"\u001b[0m\u001b[0;34m)\u001b[0m\u001b[0;34m\u001b[0m\u001b[0;34m\u001b[0m\u001b[0m\n\u001b[1;32m     29\u001b[0m \u001b[0mplt\u001b[0m\u001b[0;34m.\u001b[0m\u001b[0mfigure\u001b[0m\u001b[0;34m(\u001b[0m\u001b[0;34m)\u001b[0m\u001b[0;34m\u001b[0m\u001b[0;34m\u001b[0m\u001b[0m\n\u001b[0;32m---> 30\u001b[0;31m \u001b[0mplt\u001b[0m\u001b[0;34m.\u001b[0m\u001b[0mplot\u001b[0m\u001b[0;34m(\u001b[0m\u001b[0mnp\u001b[0m\u001b[0;34m.\u001b[0m\u001b[0marange\u001b[0m\u001b[0;34m(\u001b[0m\u001b[0;36m0\u001b[0m\u001b[0;34m,\u001b[0m \u001b[0mN\u001b[0m\u001b[0;34m)\u001b[0m\u001b[0;34m,\u001b[0m \u001b[0mH\u001b[0m\u001b[0;34m.\u001b[0m\u001b[0mhistory\u001b[0m\u001b[0;34m[\u001b[0m\u001b[0;34m\"loss\"\u001b[0m\u001b[0;34m]\u001b[0m\u001b[0;34m,\u001b[0m \u001b[0mlabel\u001b[0m\u001b[0;34m=\u001b[0m\u001b[0;34m\"train_loss\"\u001b[0m\u001b[0;34m)\u001b[0m\u001b[0;34m\u001b[0m\u001b[0;34m\u001b[0m\u001b[0m\n\u001b[0m\u001b[1;32m     31\u001b[0m \u001b[0mplt\u001b[0m\u001b[0;34m.\u001b[0m\u001b[0mplot\u001b[0m\u001b[0;34m(\u001b[0m\u001b[0mnp\u001b[0m\u001b[0;34m.\u001b[0m\u001b[0marange\u001b[0m\u001b[0;34m(\u001b[0m\u001b[0;36m0\u001b[0m\u001b[0;34m,\u001b[0m \u001b[0mN\u001b[0m\u001b[0;34m)\u001b[0m\u001b[0;34m,\u001b[0m \u001b[0mH\u001b[0m\u001b[0;34m.\u001b[0m\u001b[0mhistory\u001b[0m\u001b[0;34m[\u001b[0m\u001b[0;34m\"val_loss\"\u001b[0m\u001b[0;34m]\u001b[0m\u001b[0;34m,\u001b[0m \u001b[0mlabel\u001b[0m\u001b[0;34m=\u001b[0m\u001b[0;34m\"val_loss\"\u001b[0m\u001b[0;34m)\u001b[0m\u001b[0;34m\u001b[0m\u001b[0;34m\u001b[0m\u001b[0m\n\u001b[1;32m     32\u001b[0m \u001b[0mplt\u001b[0m\u001b[0;34m.\u001b[0m\u001b[0mplot\u001b[0m\u001b[0;34m(\u001b[0m\u001b[0mnp\u001b[0m\u001b[0;34m.\u001b[0m\u001b[0marange\u001b[0m\u001b[0;34m(\u001b[0m\u001b[0;36m0\u001b[0m\u001b[0;34m,\u001b[0m \u001b[0mN\u001b[0m\u001b[0;34m)\u001b[0m\u001b[0;34m,\u001b[0m \u001b[0mH\u001b[0m\u001b[0;34m.\u001b[0m\u001b[0mhistory\u001b[0m\u001b[0;34m[\u001b[0m\u001b[0;34m\"accuracy\"\u001b[0m\u001b[0;34m]\u001b[0m\u001b[0;34m,\u001b[0m \u001b[0mlabel\u001b[0m\u001b[0;34m=\u001b[0m\u001b[0;34m\"train_acc\"\u001b[0m\u001b[0;34m)\u001b[0m\u001b[0;34m\u001b[0m\u001b[0;34m\u001b[0m\u001b[0m\n",
            "\u001b[0;31mNameError\u001b[0m: name 'H' is not defined"
          ]
        },
        {
          "output_type": "display_data",
          "data": {
            "text/plain": [
              "<Figure size 432x288 with 0 Axes>"
            ]
          },
          "metadata": {
            "tags": []
          }
        }
      ]
    },
    {
      "cell_type": "code",
      "metadata": {
        "id": "VIMpkL00hzFy",
        "colab_type": "code",
        "colab": {
          "base_uri": "https://localhost:8080/",
          "height": 587
        },
        "outputId": "be83a077-33df-4086-daea-f42d82f1072c"
      },
      "source": [
        "plt.plot(history.history['accuracy'])\n",
        "plt.plot(history.history['val_accuracy'])\n",
        "plt.title('VGG_16 accuracy')\n",
        "plt.ylabel('accuracy')\n",
        "plt.xlabel('epoch')\n",
        "plt.legend(['train', 'test'], loc='upper left')\n",
        "plt.show()\n",
        "# summarize history for loss\n",
        "plt.plot(history.history['loss'])\n",
        "plt.plot(history.history['val_loss'])\n",
        "plt.title('VGG_16 loss')\n",
        "plt.ylabel('loss')\n",
        "plt.xlabel('epoch')\n",
        "plt.legend(['train', 'test'], loc='upper left')\n",
        "plt.show()"
      ],
      "execution_count": null,
      "outputs": [
        {
          "output_type": "display_data",
          "data": {
            "image/png": "[encoded data removed]",
            "text/plain": [
              "<Figure size 432x288 with 1 Axes>"
            ]
          },
          "metadata": {
            "tags": []
          }
        },
        {
          "output_type": "display_data",
          "data": {
            "image/png": "[encoded data removed]",
            "text/plain": [
              "<Figure size 432x288 with 1 Axes>"
            ]
          },
          "metadata": {
            "tags": []
          }
        }
      ]
    },
    {
      "cell_type": "code",
      "metadata": {
        "colab_type": "code",
        "id": "8K61VkbtwChR",
        "colab": {
          "base_uri": "https://localhost:8080/",
          "height": 35
        },
        "outputId": "37db90d7-afb3-4e7c-adf9-61a1977aa375"
      },
      "source": [
        "score_model = model.evaluate(x=testX, y=testY)"
      ],
      "execution_count": null,
      "outputs": [
        {
          "output_type": "stream",
          "text": [
            "3/3 [==============================] - 1s 193ms/step - loss: 0.1398 - accuracy: 0.9684\n"
          ],
          "name": "stdout"
        }
      ]
    },
    {
      "cell_type": "code",
      "metadata": {
        "colab_type": "code",
        "id": "dCVmfpy1wChw",
        "colab": {
          "base_uri": "https://localhost:8080/",
          "height": 72
        },
        "outputId": "9636ebc3-62d8-4cd9-9ba9-41b47e370862"
      },
      "source": [
        "met = list(zip(model.metrics_names, score_model))\n",
        "print('Scores for test set:')\n",
        "print('{}: {:.4f}'.format(met[0][0], met[0][1]))\n",
        "print('{}: {:.4f}'.format(met[1][0], met[1][1]))"
      ],
      "execution_count": null,
      "outputs": [
        {
          "output_type": "stream",
          "text": [
            "Scores for test set:\n",
            "loss: 0.1398\n",
            "accuracy: 0.9684\n"
          ],
          "name": "stdout"
        }
      ]
    },
    {
      "cell_type": "code",
      "metadata": {
        "colab_type": "code",
        "id": "efHHPLkVwCh9",
        "colab": {
          "base_uri": "https://localhost:8080/",
          "height": 72
        },
        "outputId": "013e3c0d-3e7a-4fe0-e0ca-510c2d728d88"
      },
      "source": [
        "print('Average scores for all epochs:')\n",
        "print('accuracy: {:.4f} (+- {:.4f})'.format(np.mean(history.history['accuracy']), np.std(history.history['accuracy'])))\n",
        "print('loss: {:.4f}'.format(np.mean(history.history['loss'])))"
      ],
      "execution_count": null,
      "outputs": [
        {
          "output_type": "stream",
          "text": [
            "Average scores for all epochs:\n",
            "accuracy: 0.9679 (+- 0.0493)\n",
            "loss: 0.0894\n"
          ],
          "name": "stdout"
        }
      ]
    },
    {
      "cell_type": "code",
      "metadata": {
        "colab_type": "code",
        "id": "aV3ekjtEwCiL",
        "colab": {
          "base_uri": "https://localhost:8080/",
          "height": 302
        },
        "outputId": "a471825a-a576-4aa7-c8f7-18b7fab1246c"
      },
      "source": [
        "y_pred_test = model.predict(testX)\n",
        "confmat = confusion_matrix(testY.argmax(axis=1),y_pred_test.argmax(axis=1))\n",
        "\n",
        "#Plot Confusion Matrix \n",
        "plt.figure(figsize=(4,4))\n",
        "sns.heatmap(confmat, cmap='coolwarm', linecolor='white', linewidths=1, annot=True, fmt='d')\n",
        "plt.title('Confusion Matrix (VGG_16)')\n",
        "plt.ylabel('True Label')\n",
        "plt.xlabel('Predicted Label')\n",
        "fig = plt.gcf()\n",
        "fig.savefig('Confusion-Matrix-(VGG_16).png');\n",
        "plt.show();"
      ],
      "execution_count": null,
      "outputs": [
        {
          "output_type": "display_data",
          "data": {
            "image/png": "[encoded data removed]",
            "text/plain": [
              "<Figure size 288x288 with 2 Axes>"
            ]
          },
          "metadata": {
            "tags": []
          }
        }
      ]
    }
  ]
}