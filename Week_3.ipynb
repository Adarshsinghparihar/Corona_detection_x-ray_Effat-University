{
  "nbformat": 4,
  "nbformat_minor": 0,
  "metadata": {
    "colab": {
      "name": "Week 3.ipynb",
      "provenance": [],
      "collapsed_sections": [],
      "authorship_tag": "ABX9TyMYTJtcwHZM/UDTC99n4l/N",
      "include_colab_link": true
    },
    "kernelspec": {
      "name": "python3",
      "display_name": "Python 3"
    }
  },
  "cells": [
    {
      "cell_type": "markdown",
      "metadata": {
        "id": "view-in-github",
        "colab_type": "text"
      },
      "source": [
        "<a href=\"https://colab.research.google.com/github/Adarshsinghparihar/Corona_detection_x-ray_Effat-University/blob/master/Week_3.ipynb\" target=\"_parent\"><img src=\"https://colab.research.google.com/assets/colab-badge.svg\" alt=\"Open In Colab\"/></a>"
      ]
    },
    {
      "cell_type": "code",
      "metadata": {
        "id": "AUCDFduDAWBk",
        "colab_type": "code",
        "colab": {
          "base_uri": "https://localhost:8080/",
          "height": 129
        },
        "outputId": "dddccca9-98ad-4c9a-aa92-c34228857896"
      },
      "source": [
        "from google.colab import drive\n",
        "drive.mount('/content/drive')\n",
        "path = '/content/drive/My Drive/covid-19/'"
      ],
      "execution_count": null,
      "outputs": [
        {
          "output_type": "stream",
          "text": [
            "Go to this URL in a browser: https://accounts.google.com/o/oauth2/auth?client_id=947318989803-6bn6qk8qdgf4n4g3pfee6491hc0brc4i.apps.googleusercontent.com&redirect_uri=urn%3aietf%3awg%3aoauth%3a2.0%3aoob&response_type=code&scope=email%20https%3a%2f%2fwww.googleapis.com%2fauth%2fdocs.test%20https%3a%2f%2fwww.googleapis.com%2fauth%2fdrive%20https%3a%2f%2fwww.googleapis.com%2fauth%2fdrive.photos.readonly%20https%3a%2f%2fwww.googleapis.com%2fauth%2fpeopleapi.readonly\n",
            "\n",
            "Enter your authorization code:\n",
            "··········\n",
            "Mounted at /content/drive\n"
          ],
          "name": "stdout"
        }
      ]
    },
    {
      "cell_type": "code",
      "metadata": {
        "id": "7os90swN9gv4",
        "colab_type": "code",
        "colab": {
          "base_uri": "https://localhost:8080/",
          "height": 74
        },
        "outputId": "62f1f625-31d4-426c-fbde-8c28ab22d949"
      },
      "source": [
        "import cv2\n",
        "from PIL import Image\n",
        "from os import listdir\n",
        "import skimage\n",
        "from skimage.transform import resize\n",
        "import numpy as np\n",
        "from tqdm import tqdm\n",
        "import matplotlib.pyplot as plt\n",
        "import seaborn as sns\n",
        "sns.set()\n",
        "import os"
      ],
      "execution_count": null,
      "outputs": [
        {
          "output_type": "stream",
          "text": [
            "/usr/local/lib/python3.6/dist-packages/statsmodels/tools/_testing.py:19: FutureWarning: pandas.util.testing is deprecated. Use the functions in the public API at pandas.testing instead.\n",
            "  import pandas.util.testing as tm\n"
          ],
          "name": "stderr"
        }
      ]
    },
    {
      "cell_type": "code",
      "metadata": {
        "colab_type": "code",
        "id": "Wv6U8gG4m00q",
        "colab": {}
      },
      "source": [
        "from sklearn.model_selection import train_test_split, KFold\n",
        "from sklearn.utils import shuffle\n",
        "from sklearn.metrics import confusion_matrix"
      ],
      "execution_count": null,
      "outputs": []
    },
    {
      "cell_type": "code",
      "metadata": {
        "id": "zqsuXaUNmMWC",
        "colab_type": "code",
        "colab": {}
      },
      "source": [
        "def get_data(folder, X=[], y=[]):\n",
        " \n",
        "  for folderName in listdir(folder)[:2]:\n",
        "    # print(folderName) - used for debugging purposes\n",
        "    if not folderName.startswith('.') and not folderName.endswith('.ipynb'): # to not consider .DS_Store and .ipynb files\n",
        "      if folderName in ['normal']:\n",
        "        label = 0\n",
        "      elif folderName in ['corona']:\n",
        "        label = 1\n",
        "      # elif folderName in ['normal']:\n",
        "        # label = 2 # for all other types of pnuemonia - label 2 is to be used later on\n",
        "      # print(label) - used for debugging purposes\n",
        "      for image_filename in tqdm(listdir(folder + folderName)):\n",
        "        img_file = cv2.imread(folder + folderName + '/' + image_filename)\n",
        "        if img_file is not None:\n",
        "          img_file = skimage.transform.resize(img_file, (224, 224, 3))\n",
        "          img_arr = np.asarray(img_file)\n",
        "          X.append(img_arr)\n",
        "          y.append(label)\n",
        "  X = np.asarray(X)\n",
        "  y = np.asarray(y)\n",
        "  return X,y\n"
      ],
      "execution_count": null,
      "outputs": []
    },
    {
      "cell_type": "code",
      "metadata": {
        "colab_type": "code",
        "id": "Py8nsLnhma8F",
        "colab": {
          "base_uri": "https://localhost:8080/",
          "height": 54
        },
        "outputId": "cd2ae508-86a0-4f37-e188-6e890444315a"
      },
      "source": [
        "X,y = get_data(path)\n",
        "print(len(X), len(y))\n"
      ],
      "execution_count": null,
      "outputs": [
        {
          "output_type": "stream",
          "text": [
            "100%|██████████| 287/287 [02:10<00:00,  2.21it/s]\n",
            "100%|██████████| 1595/1595 [08:19<00:00,  3.19it/s]\n"
          ],
          "name": "stderr"
        }
      ]
    },
    {
      "cell_type": "code",
      "metadata": {
        "id": "r9F_XfXvT5YU",
        "colab_type": "code",
        "colab": {}
      },
      "source": [
        "y = to_categorical(y, num_classes=2)  \n",
        "X_train, X_test, y_train, y_test = train_test_split(*shuffle(X, y), test_size=0.1, random_state=1234)"
      ],
      "execution_count": null,
      "outputs": []
    },
    {
      "cell_type": "markdown",
      "metadata": {
        "id": "HahylUchKa0X",
        "colab_type": "text"
      },
      "source": [
        "# Model 2 "
      ]
    },
    {
      "cell_type": "code",
      "metadata": {
        "id": "z286qVYBK1Ap",
        "colab_type": "code",
        "colab": {}
      },
      "source": [
        "from keras.datasets import mnist\n",
        "from keras.models import Sequential\n",
        "from keras.layers import Dense, Dropout, Flatten\n",
        "from keras.layers import Conv2D, MaxPooling2D, ZeroPadding2D, Convolution2D\n",
        "from keras.layers import Dropout\n",
        "from keras.layers.normalization import BatchNormalization\n",
        "from keras import optimizers\n",
        "import warnings\n",
        "warnings.filterwarnings(\"ignore\")\n"
      ],
      "execution_count": null,
      "outputs": []
    },
    {
      "cell_type": "code",
      "metadata": {
        "id": "QegGdeL3KlrO",
        "colab_type": "code",
        "colab": {
          "base_uri": "https://localhost:8080/",
          "height": 733
        },
        "outputId": "9d802c40-233e-49f1-8073-58ad7a31273f"
      },
      "source": [
        "\n",
        "output_dim=10\n",
        "batch_size = 128 \n",
        "nb_epoch = 50\n",
        "input_shape = (224, 224, 3)\n",
        "#Initialize model\n",
        "model = Sequential()\n",
        "\n",
        "#CNN Layer 1\n",
        "#this applies 64 convolution filters of size 3X3 each.\n",
        "model.add(ZeroPadding2D((1,1), input_shape=input_shape))\n",
        "model.add(Convolution2D(filters=64, kernel_size=(3,3), activation='relu', kernel_initializer='he_normal'))\n",
        "model.add(Dropout(0.5))\n",
        "\n",
        "#CNN Layer 2\n",
        "model.add(ZeroPadding2D((1,1)))\n",
        "model.add(Convolution2D(filters=64, kernel_size=(3,3), activation='relu', kernel_initializer='he_normal'))\n",
        "model.add(MaxPooling2D((2,2), strides=(2,2)))\n",
        "model.add(Dropout(0.5))\n",
        "\n",
        "#Flatten the output before feeding these to the fully connected Neurons                                    \n",
        "model.add(Flatten())\n",
        "\n",
        "#Fully connected Layers\n",
        "model.add(Dense(256, activation='relu', kernel_initializer='he_normal'))\n",
        "model.add(BatchNormalization())\n",
        "model.add(Dropout(0.5))\n",
        "\n",
        "model.add(Dense(64, activation='relu', kernel_initializer='he_normal'))\n",
        "model.add(BatchNormalization())\n",
        "model.add(Dropout(0.6))\n",
        "model.add(Dense(1, activation='sigmoid', kernel_initializer='he_normal'))\n",
        "\n",
        "#Using adam as our optimzer\n",
        "opt = keras.optimizers.Adam(lr=0.001, beta_1=0.9, beta_2=0.999, epsilon=1e-8)\n",
        "\n",
        "#Get a summary of the model.\n",
        "print(model.summary())\n",
        "\n",
        "#Compile the model\n",
        "model.compile(loss='binary_crossentropy', optimizer=opt, metrics=['accuracy'])"
      ],
      "execution_count": null,
      "outputs": [
        {
          "output_type": "stream",
          "text": [
            "Model: \"sequential_3\"\n",
            "_________________________________________________________________\n",
            "Layer (type)                 Output Shape              Param #   \n",
            "=================================================================\n",
            "zero_padding2d_3 (ZeroPaddin (None, 226, 226, 3)       0         \n",
            "_________________________________________________________________\n",
            "conv2d_6 (Conv2D)            (None, 224, 224, 64)      1792      \n",
            "_________________________________________________________________\n",
            "dropout_5 (Dropout)          (None, 224, 224, 64)      0         \n",
            "_________________________________________________________________\n",
            "zero_padding2d_4 (ZeroPaddin (None, 226, 226, 64)      0         \n",
            "_________________________________________________________________\n",
            "conv2d_7 (Conv2D)            (None, 224, 224, 64)      36928     \n",
            "_________________________________________________________________\n",
            "max_pooling2d_5 (MaxPooling2 (None, 112, 112, 64)      0         \n",
            "_________________________________________________________________\n",
            "dropout_6 (Dropout)          (None, 112, 112, 64)      0         \n",
            "_________________________________________________________________\n",
            "flatten_3 (Flatten)          (None, 802816)            0         \n",
            "_________________________________________________________________\n",
            "dense_6 (Dense)              (None, 256)               205521152 \n",
            "_________________________________________________________________\n",
            "batch_normalization_3 (Batch (None, 256)               1024      \n",
            "_________________________________________________________________\n",
            "dropout_7 (Dropout)          (None, 256)               0         \n",
            "_________________________________________________________________\n",
            "dense_7 (Dense)              (None, 64)                16448     \n",
            "_________________________________________________________________\n",
            "batch_normalization_4 (Batch (None, 64)                256       \n",
            "_________________________________________________________________\n",
            "dropout_8 (Dropout)          (None, 64)                0         \n",
            "_________________________________________________________________\n",
            "dense_8 (Dense)              (None, 1)                 65        \n",
            "=================================================================\n",
            "Total params: 205,577,665\n",
            "Trainable params: 205,577,025\n",
            "Non-trainable params: 640\n",
            "_________________________________________________________________\n",
            "None\n"
          ],
          "name": "stdout"
        }
      ]
    },
    {
      "cell_type": "code",
      "metadata": {
        "id": "LZGstW84LP6k",
        "colab_type": "code",
        "colab": {
          "base_uri": "https://localhost:8080/",
          "height": 403
        },
        "outputId": "703ae9c1-0243-4e47-f55b-5dbd9c8f2f34"
      },
      "source": [
        "# checkpoint_path = \"training_1/cp.ckpt\"\n",
        "# checkpoint_dir = os.path.dirname(checkpoint_path)\n",
        "\n",
        "# # Create a callback that saves the model's weights\n",
        "# cp_callback = tf.keras.callbacks.ModelCheckpoint(filepath=checkpoint_path,\n",
        "#                                                  save_weights_only=True,\n",
        "#                                                  verbose=1)\n",
        "\n",
        "history= classifier.fit(X_train, y_train, epochs=10, verbose=1, validation_split=0.1,shuffle = True)"
      ],
      "execution_count": null,
      "outputs": [
        {
          "output_type": "stream",
          "text": [
            "Train on 1523 samples, validate on 170 samples\n",
            "Epoch 1/10\n",
            "1523/1523 [==============================] - 3s 2ms/step - loss: 5.7671e-05 - accuracy: 1.0000 - val_loss: 0.2127 - val_accuracy: 0.9647\n",
            "Epoch 2/10\n",
            "1523/1523 [==============================] - 3s 2ms/step - loss: 5.0576e-05 - accuracy: 1.0000 - val_loss: 0.2100 - val_accuracy: 0.9647\n",
            "Epoch 3/10\n",
            "1523/1523 [==============================] - 3s 2ms/step - loss: 4.9548e-05 - accuracy: 1.0000 - val_loss: 0.2178 - val_accuracy: 0.9647\n",
            "Epoch 4/10\n",
            "1523/1523 [==============================] - 3s 2ms/step - loss: 4.1345e-05 - accuracy: 1.0000 - val_loss: 0.2154 - val_accuracy: 0.9647\n",
            "Epoch 5/10\n",
            "1523/1523 [==============================] - 3s 2ms/step - loss: 3.8455e-05 - accuracy: 1.0000 - val_loss: 0.2184 - val_accuracy: 0.9647\n",
            "Epoch 6/10\n",
            "1523/1523 [==============================] - 3s 2ms/step - loss: 3.5974e-05 - accuracy: 1.0000 - val_loss: 0.2231 - val_accuracy: 0.9647\n",
            "Epoch 7/10\n",
            "1523/1523 [==============================] - 3s 2ms/step - loss: 3.1341e-05 - accuracy: 1.0000 - val_loss: 0.2240 - val_accuracy: 0.9647\n",
            "Epoch 8/10\n",
            "1523/1523 [==============================] - 3s 2ms/step - loss: 2.9302e-05 - accuracy: 1.0000 - val_loss: 0.2271 - val_accuracy: 0.9647\n",
            "Epoch 9/10\n",
            "1523/1523 [==============================] - 3s 2ms/step - loss: 2.7554e-05 - accuracy: 1.0000 - val_loss: 0.2285 - val_accuracy: 0.9647\n",
            "Epoch 10/10\n",
            "1523/1523 [==============================] - 3s 2ms/step - loss: 2.5300e-05 - accuracy: 1.0000 - val_loss: 0.2300 - val_accuracy: 0.9647\n"
          ],
          "name": "stdout"
        }
      ]
    },
    {
      "cell_type": "code",
      "metadata": {
        "colab_type": "code",
        "id": "DuwjNR1tAGUt",
        "colab": {
          "base_uri": "https://localhost:8080/",
          "height": 301
        },
        "outputId": "163e8b0e-c2bd-4a3e-e390-65e7e60722a4"
      },
      "source": [
        "plt.plot(history.history['loss'])\n",
        "plt.plot(history.history['val_loss'])\n",
        "plt.title('model_2 loss')\n",
        "plt.ylabel('loss')\n",
        "plt.xlabel('epoch')\n",
        "plt.legend(['train', 'test'], loc='upper left')\n",
        "plt.show()"
      ],
      "execution_count": null,
      "outputs": [
        {
          "output_type": "display_data",
          "data": {
            "image/png": "[encoded data removed]",
            "text/plain": [
              "<Figure size 432x288 with 1 Axes>"
            ]
          },
          "metadata": {
            "tags": []
          }
        }
      ]
    },
    {
      "cell_type": "code",
      "metadata": {
        "colab_type": "code",
        "id": "Up094OshAGVA",
        "colab": {
          "base_uri": "https://localhost:8080/",
          "height": 585
        },
        "outputId": "2ff81f98-9f19-4f42-a104-2c3eb023d733"
      },
      "source": [
        "plt.plot(history.history['accuracy'])\n",
        "plt.plot(history.history['val_accuracy'])\n",
        "plt.title('model_2 accuracy')\n",
        "plt.ylabel('accuracy')\n",
        "plt.xlabel('epoch')\n",
        "plt.legend(['train', 'test'], loc='upper left')\n",
        "plt.show()\n",
        "# summarize history for loss\n",
        "plt.plot(history.history['loss'])\n",
        "plt.plot(history.history['val_loss'])\n",
        "plt.title('model_2 loss')\n",
        "plt.ylabel('loss')\n",
        "plt.xlabel('epoch')\n",
        "plt.legend(['train', 'test'], loc='upper left')\n",
        "plt.show()"
      ],
      "execution_count": null,
      "outputs": [
        {
          "output_type": "display_data",
          "data": {
            "image/png": "[encoded data removed]",
            "text/plain": [
              "<Figure size 432x288 with 1 Axes>"
            ]
          },
          "metadata": {
            "tags": []
          }
        },
        {
          "output_type": "display_data",
          "data": {
            "image/png": "[encoded data removed]",
            "text/plain": [
              "<Figure size 432x288 with 1 Axes>"
            ]
          },
          "metadata": {
            "tags": []
          }
        }
      ]
    },
    {
      "cell_type": "code",
      "metadata": {
        "colab_type": "code",
        "id": "Bhf34UW-AGVK",
        "colab": {
          "base_uri": "https://localhost:8080/",
          "height": 54
        },
        "outputId": "9d0d9613-f9d3-4821-a4a4-aaac5eaf0cb8"
      },
      "source": [
        "import keras\n",
        "y_pred_test = classifier.predict(X_test)\n",
        "print('Score test: ', classifier.evaluate(X_test, y_test))\n"
      ],
      "execution_count": null,
      "outputs": [
        {
          "output_type": "stream",
          "text": [
            "189/189 [==============================] - 0s 1ms/step\n",
            "Score test:  [0.02837895607577622, 0.9867724776268005]\n"
          ],
          "name": "stdout"
        }
      ]
    },
    {
      "cell_type": "code",
      "metadata": {
        "colab_type": "code",
        "id": "U76ZpkCFAGVS",
        "colab": {
          "base_uri": "https://localhost:8080/",
          "height": 127
        },
        "outputId": "379b5f49-0fda-455a-a61b-d9992b15329c"
      },
      "source": [
        "BS= 32\n",
        "# make predictions on the testing set\n",
        "print(\"[INFO] evaluating network...\")\n",
        "predIdxs = classifier.predict(X_test)\n",
        "\n",
        "# for each image in the testing set we need to find the index of the\n",
        "# label with corresponding largest predicted probability\n",
        "predIdxs = np.argmax(predIdxs, axis=1)\n",
        "\n",
        "# show a nicely formatted classification report\n",
        "# print(classification_report(y_test.argmax(axis=1), predIdxs,\n",
        "\t# target_names=lb.classes_))\n",
        "\n",
        "# compute the confusion matrix and and use it to derive the raw\n",
        "# accuracy, sensitivity, and specificity\n",
        "cm = confusion_matrix(y_test.argmax(axis=1), predIdxs)\n",
        "total = sum(sum(cm))\n",
        "acc = (cm[0, 0] + cm[1, 1]) / total\n",
        "sensitivity = cm[0, 0] / (cm[0, 0] + cm[0, 1])\n",
        "specificity = cm[1, 1] / (cm[1, 0] + cm[1, 1])\n",
        "\n",
        "# show the confusion matrix, accuracy, sensitivity, and specificity\n",
        "print(cm)\n",
        "print(\"acc: {:.4f}\".format(acc))\n",
        "print(\"sensitivity: {:.4f}\".format(sensitivity))\n",
        "print(\"specificity: {:.4f}\".format(specificity))\n"
      ],
      "execution_count": null,
      "outputs": [
        {
          "output_type": "stream",
          "text": [
            "[INFO] evaluating network...\n",
            "[[158   2]\n",
            " [  0  29]]\n",
            "acc: 0.9894\n",
            "sensitivity: 0.9875\n",
            "specificity: 1.0000\n"
          ],
          "name": "stdout"
        }
      ]
    },
    {
      "cell_type": "code",
      "metadata": {
        "colab_type": "code",
        "id": "BqzXBcp8AGVd",
        "colab": {
          "base_uri": "https://localhost:8080/",
          "height": 74
        },
        "outputId": "dee27c6f-1a54-4079-9f82-658c6a931ea6"
      },
      "source": [
        "print(history.history['loss'])\n",
        "print(history.history['accuracy'])"
      ],
      "execution_count": null,
      "outputs": [
        {
          "output_type": "stream",
          "text": [
            "[5.7671154698049696e-05, 5.0576182994776584e-05, 4.954777139039835e-05, 4.1345014284093675e-05, 3.845501239463469e-05, 3.5973919803070734e-05, 3.134076829177583e-05, 2.9302359227934588e-05, 2.75537912255092e-05, 2.5300115319030138e-05]\n",
            "[1.0, 1.0, 1.0, 1.0, 1.0, 1.0, 1.0, 1.0, 1.0, 1.0]\n"
          ],
          "name": "stdout"
        }
      ]
    },
    {
      "cell_type": "code",
      "metadata": {
        "colab_type": "code",
        "id": "7TVHB0ETAGVk",
        "colab": {
          "base_uri": "https://localhost:8080/",
          "height": 35
        },
        "outputId": "79b8b3f9-e39c-4e59-8333-ae0556d00275"
      },
      "source": [
        "score_model = classifier.evaluate(x=X_test, y=y_test)"
      ],
      "execution_count": null,
      "outputs": [
        {
          "output_type": "stream",
          "text": [
            "189/189 [==============================] - 0s 1ms/step\n"
          ],
          "name": "stdout"
        }
      ]
    },
    {
      "cell_type": "code",
      "metadata": {
        "colab_type": "code",
        "id": "pJxWJBNgAGVr",
        "colab": {
          "base_uri": "https://localhost:8080/",
          "height": 72
        },
        "outputId": "e8264e7c-efea-480c-be92-fd4b21550c15"
      },
      "source": [
        "met = list(zip(classifier.metrics_names, score_model))\n",
        "print('Scores for test set:')\n",
        "print('{}: {:.4f}'.format(met[0][0], met[0][1]))\n",
        "print('{}: {:.4f}'.format(met[1][0], met[1][1]))"
      ],
      "execution_count": null,
      "outputs": [
        {
          "output_type": "stream",
          "text": [
            "Scores for test set:\n",
            "loss: 0.0284\n",
            "accuracy: 0.9868\n"
          ],
          "name": "stdout"
        }
      ]
    },
    {
      "cell_type": "code",
      "metadata": {
        "colab_type": "code",
        "id": "b-X3RLuHAGVz",
        "colab": {
          "base_uri": "https://localhost:8080/",
          "height": 72
        },
        "outputId": "f07c04e7-93e6-45e9-9747-678a8a027f07"
      },
      "source": [
        "print('Average scores for all epochs:')\n",
        "print('accuracy: {:.4f} (+- {:.4f})'.format(np.mean(history.history['accuracy']), np.std(history.history['accuracy'])))\n",
        "print('loss: {:.4f}'.format(np.mean(history.history['loss'])))"
      ],
      "execution_count": null,
      "outputs": [
        {
          "output_type": "stream",
          "text": [
            "Average scores for all epochs:\n",
            "accuracy: 1.0000 (+- 0.0000)\n",
            "loss: 0.0000\n"
          ],
          "name": "stdout"
        }
      ]
    },
    {
      "cell_type": "code",
      "metadata": {
        "colab_type": "code",
        "id": "UsCLXPa_AGV6",
        "colab": {
          "base_uri": "https://localhost:8080/",
          "height": 301
        },
        "outputId": "5691eb9d-fe74-4630-fe26-a48ef3ad5d1a"
      },
      "source": [
        "y_pred_test = classifier.predict(X_test)\n",
        "confmat = confusion_matrix(y_test.argmax(axis=1),y_pred_test.argmax(axis=1))\n",
        "\n",
        "#Plot Confusion Matrix \n",
        "plt.figure(figsize=(4,4))\n",
        "sns.heatmap(confmat, cmap='coolwarm', linecolor='white', linewidths=1, annot=True, fmt='d')\n",
        "plt.title('Confusion Matrix (model_2)')\n",
        "plt.ylabel('True Label')\n",
        "plt.xlabel('Predicted Label')\n",
        "fig = plt.gcf()\n",
        "fig.savefig('Confusion-Matrix-(model_2).png');\n",
        "plt.show();"
      ],
      "execution_count": null,
      "outputs": [
        {
          "output_type": "display_data",
          "data": {
            "image/png": "[encoded data removed]",
            "text/plain": [
              "<Figure size 288x288 with 2 Axes>"
            ]
          },
          "metadata": {
            "tags": []
          }
        }
      ]
    },
    {
      "cell_type": "markdown",
      "metadata": {
        "id": "9v5nATLD8q92",
        "colab_type": "text"
      },
      "source": [
        "#Model 3\n"
      ]
    },
    {
      "cell_type": "code",
      "metadata": {
        "id": "CUX9-jg6Aqul",
        "colab_type": "code",
        "colab": {
          "base_uri": "https://localhost:8080/",
          "height": 605
        },
        "outputId": "9b0ee7f7-b058-4577-c7cd-340bdb119618"
      },
      "source": [
        "from keras.models import Sequential\n",
        "from keras.layers import Conv2D\n",
        "from keras.layers import MaxPooling2D\n",
        "from keras.layers import Flatten\n",
        "from keras.layers import Dense\n",
        "from keras.layers.core import Flatten, Dense, Dropout\n",
        "from keras.layers.convolutional import Convolution2D, MaxPooling2D, ZeroPadding2D\n",
        "from keras.optimizers import SGD\n",
        "\n",
        "# Initialising the CNN\n",
        "model_3_hidden= Sequential()\n",
        "\n",
        "# Step 1 - Convolution\n",
        "model_3_hidden.add(Conv2D(32, (3, 3), input_shape = (224, 224, 3), activation = 'relu'))\n",
        "model_3_hidden.add(MaxPooling2D(pool_size = (2, 2)))\n",
        "model_3_hidden.add(Dropout(0.2))\n",
        "# Adding a second convolutional layer\n",
        "model_3_hidden.add(Conv2D(32, (3, 3), activation = 'relu'))\n",
        "model_3_hidden.add(MaxPooling2D(pool_size = (2, 2)))\n",
        "model_3_hidden.add(Dropout(0.2))\n",
        "# Adding a third convolutional layer\n",
        "model_3_hidden.add(Conv2D(32, (3, 3), activation = 'relu'))\n",
        "model_3_hidden.add(MaxPooling2D(pool_size = (2, 2)))\n",
        "model_3_hidden.add(Dropout(0.2))\n",
        "# Step 3 - Flattening\n",
        "model_3_hidden.add(Flatten())\n",
        "\n",
        "# Step 4 - Full connection\n",
        "model_3_hidden.add(Dense(units = 64, activation = 'relu'))\n",
        "model_3_hidden.add(Dense(units = 2, activation = 'sigmoid'))\n",
        "\n",
        "# Compiling the CNN\n",
        "#optim=optimizers.RMSprop(lr=0.001, rho=0.9, epsilon=None, decay=0.0)\n",
        "optim=keras.optimizers.Adam(lr=0.001, beta_1=0.9, beta_2=0.999, epsilon=1e-8)\n",
        "\n",
        "model_3_hidden.compile(optimizer = optim, loss = 'binary_crossentropy', metrics = ['accuracy'])\n",
        "\n",
        "#summary\n",
        "model_3_hidden.summary()\n"
      ],
      "execution_count": null,
      "outputs": [
        {
          "output_type": "stream",
          "text": [
            "Model: \"sequential_2\"\n",
            "_________________________________________________________________\n",
            "Layer (type)                 Output Shape              Param #   \n",
            "=================================================================\n",
            "conv2d_4 (Conv2D)            (None, 222, 222, 32)      896       \n",
            "_________________________________________________________________\n",
            "max_pooling2d_4 (MaxPooling2 (None, 111, 111, 32)      0         \n",
            "_________________________________________________________________\n",
            "dropout_4 (Dropout)          (None, 111, 111, 32)      0         \n",
            "_________________________________________________________________\n",
            "conv2d_5 (Conv2D)            (None, 109, 109, 32)      9248      \n",
            "_________________________________________________________________\n",
            "max_pooling2d_5 (MaxPooling2 (None, 54, 54, 32)        0         \n",
            "_________________________________________________________________\n",
            "dropout_5 (Dropout)          (None, 54, 54, 32)        0         \n",
            "_________________________________________________________________\n",
            "conv2d_6 (Conv2D)            (None, 52, 52, 32)        9248      \n",
            "_________________________________________________________________\n",
            "max_pooling2d_6 (MaxPooling2 (None, 26, 26, 32)        0         \n",
            "_________________________________________________________________\n",
            "dropout_6 (Dropout)          (None, 26, 26, 32)        0         \n",
            "_________________________________________________________________\n",
            "flatten_2 (Flatten)          (None, 21632)             0         \n",
            "_________________________________________________________________\n",
            "dense_3 (Dense)              (None, 64)                1384512   \n",
            "_________________________________________________________________\n",
            "dense_4 (Dense)              (None, 2)                 130       \n",
            "=================================================================\n",
            "Total params: 1,404,034\n",
            "Trainable params: 1,404,034\n",
            "Non-trainable params: 0\n",
            "_________________________________________________________________\n"
          ],
          "name": "stdout"
        }
      ]
    },
    {
      "cell_type": "code",
      "metadata": {
        "id": "bTKUq_8yn3i2",
        "colab_type": "code",
        "colab": {
          "base_uri": "https://localhost:8080/",
          "height": 36
        },
        "outputId": "cba7f12a-a4dd-4184-ca0b-30ef86cce110"
      },
      "source": [
        "import keras\n",
        "keras.__version__"
      ],
      "execution_count": null,
      "outputs": [
        {
          "output_type": "execute_result",
          "data": {
            "application/vnd.google.colaboratory.intrinsic": {
              "type": "string"
            },
            "text/plain": [
              "'2.3.1'"
            ]
          },
          "metadata": {
            "tags": []
          },
          "execution_count": 17
        }
      ]
    },
    {
      "cell_type": "code",
      "metadata": {
        "id": "-CUWy93sl_uN",
        "colab_type": "code",
        "colab": {
          "base_uri": "https://localhost:8080/",
          "height": 586
        },
        "outputId": "d83da6d3-deb1-4c88-b0e1-3b60e414ea47"
      },
      "source": [
        "from keras.preprocessing.image import ImageDataGenerator\n",
        "# BS = 32\n",
        "# train_datagen = ImageDataGenerator(rescale = 1./255,\n",
        "#                                    shear_range = 0.2,\n",
        "#                                    zoom_range = 0.2,\n",
        "#                                    horizontal_flip = True)\n",
        "\n",
        "# test_datagen = ImageDataGenerator(rescale = 1./255)\n",
        "\n",
        "# training_set = train_datagen.flow_from_directory('chest_xray/train',\n",
        "#                                                  target_size = (64, 64),\n",
        "#                                                  batch_size = 32,\n",
        "#                                                  class_mode = 'binary')\n",
        "\n",
        "# test_set = test_datagen.flow_from_directory('chest_xray/test',\n",
        "#                                             target_size = (64, 64),\n",
        "#                                             batch_size = 32,\n",
        "#                                             class_mode = 'binary')\n",
        "\n",
        "'''history=model_3_hidden.fit_generator((X_train,y_train),\n",
        "                         steps_per_epoch = 100,\n",
        "                         epochs = 25,\n",
        "                         validation_data = X_test,y_test)\n",
        "'''\n",
        "history= model_3_hidden.fit(X_train, y_train, epochs=15, verbose=1, validation_split=0.1)"
      ],
      "execution_count": null,
      "outputs": [
        {
          "output_type": "stream",
          "text": [
            "Train on 1608 samples, validate on 179 samples\n",
            "Epoch 1/15\n",
            "1608/1608 [==============================] - 91s 57ms/step - loss: 0.3535 - accuracy: 0.8700 - val_loss: 0.1144 - val_accuracy: 0.9804\n",
            "Epoch 2/15\n",
            "1608/1608 [==============================] - 91s 57ms/step - loss: 0.1171 - accuracy: 0.9590 - val_loss: 0.0597 - val_accuracy: 0.9860\n",
            "Epoch 3/15\n",
            "1608/1608 [==============================] - 91s 56ms/step - loss: 0.0801 - accuracy: 0.9729 - val_loss: 0.1157 - val_accuracy: 0.9777\n",
            "Epoch 4/15\n",
            "1608/1608 [==============================] - 91s 56ms/step - loss: 0.0793 - accuracy: 0.9695 - val_loss: 0.0474 - val_accuracy: 0.9888\n",
            "Epoch 5/15\n",
            "1608/1608 [==============================] - 91s 57ms/step - loss: 0.0554 - accuracy: 0.9826 - val_loss: 0.1213 - val_accuracy: 0.9693\n",
            "Epoch 6/15\n",
            "1608/1608 [==============================] - 92s 57ms/step - loss: 0.0536 - accuracy: 0.9801 - val_loss: 0.0493 - val_accuracy: 0.9832\n",
            "Epoch 7/15\n",
            "1608/1608 [==============================] - 90s 56ms/step - loss: 0.0434 - accuracy: 0.9832 - val_loss: 0.0719 - val_accuracy: 0.9637\n",
            "Epoch 8/15\n",
            "1608/1608 [==============================] - 91s 57ms/step - loss: 0.0409 - accuracy: 0.9832 - val_loss: 0.0411 - val_accuracy: 0.9860\n",
            "Epoch 9/15\n",
            "1608/1608 [==============================] - 91s 56ms/step - loss: 0.0317 - accuracy: 0.9907 - val_loss: 0.0454 - val_accuracy: 0.9888\n",
            "Epoch 10/15\n",
            "1608/1608 [==============================] - 91s 56ms/step - loss: 0.0240 - accuracy: 0.9916 - val_loss: 0.0384 - val_accuracy: 0.9804\n",
            "Epoch 11/15\n",
            "1608/1608 [==============================] - 91s 56ms/step - loss: 0.0287 - accuracy: 0.9876 - val_loss: 0.0375 - val_accuracy: 0.9888\n",
            "Epoch 12/15\n",
            "1608/1608 [==============================] - 91s 57ms/step - loss: 0.0184 - accuracy: 0.9935 - val_loss: 0.0370 - val_accuracy: 0.9916\n",
            "Epoch 13/15\n",
            "1608/1608 [==============================] - 91s 57ms/step - loss: 0.0178 - accuracy: 0.9928 - val_loss: 0.0334 - val_accuracy: 0.9888\n",
            "Epoch 14/15\n",
            "1608/1608 [==============================] - 91s 56ms/step - loss: 0.0278 - accuracy: 0.9907 - val_loss: 0.0481 - val_accuracy: 0.9860\n",
            "Epoch 15/15\n",
            "1608/1608 [==============================] - 91s 57ms/step - loss: 0.0154 - accuracy: 0.9944 - val_loss: 0.0362 - val_accuracy: 0.9888\n"
          ],
          "name": "stdout"
        }
      ]
    },
    {
      "cell_type": "code",
      "metadata": {
        "id": "B71DU5NFIxCN",
        "colab_type": "code",
        "colab": {
          "base_uri": "https://localhost:8080/",
          "height": 301
        },
        "outputId": "9517595a-ab26-43da-a85f-a5c3701c98cb"
      },
      "source": [
        "plt.plot(history.history['loss'])\n",
        "plt.plot(history.history['val_loss'])\n",
        "plt.title('model_1 loss')\n",
        "plt.ylabel('loss')\n",
        "plt.xlabel('epoch')\n",
        "plt.legend(['train', 'test'], loc='upper left')\n",
        "plt.show()"
      ],
      "execution_count": null,
      "outputs": [
        {
          "output_type": "display_data",
          "data": {
            "image/png": "[encoded data removed]",
            "text/plain": [
              "<Figure size 432x288 with 1 Axes>"
            ]
          },
          "metadata": {
            "tags": []
          }
        }
      ]
    },
    {
      "cell_type": "code",
      "metadata": {
        "id": "ea5VR_x8I6rZ",
        "colab_type": "code",
        "colab": {
          "base_uri": "https://localhost:8080/",
          "height": 585
        },
        "outputId": "6c61c73f-ad8e-4661-e86f-bd11a166eb37"
      },
      "source": [
        "plt.plot(history.history['accuracy'])\n",
        "plt.plot(history.history['val_accuracy'])\n",
        "plt.title('model_1 accuracy')\n",
        "plt.ylabel('accuracy')\n",
        "plt.xlabel('epoch')\n",
        "plt.legend(['train', 'test'], loc='upper left')\n",
        "plt.show()\n",
        "# summarize history for loss\n",
        "plt.plot(history.history['loss'])\n",
        "plt.plot(history.history['val_loss'])\n",
        "plt.title('model_1 loss')\n",
        "plt.ylabel('loss')\n",
        "plt.xlabel('epoch')\n",
        "plt.legend(['train', 'test'], loc='upper left')\n",
        "plt.show()"
      ],
      "execution_count": null,
      "outputs": [
        {
          "output_type": "display_data",
          "data": {
            "image/png": "[encoded data removed]",
            "text/plain": [
              "<Figure size 432x288 with 1 Axes>"
            ]
          },
          "metadata": {
            "tags": []
          }
        },
        {
          "output_type": "display_data",
          "data": {
            "image/png": "[encoded data removed]",
            "text/plain": [
              "<Figure size 432x288 with 1 Axes>"
            ]
          },
          "metadata": {
            "tags": []
          }
        }
      ]
    },
    {
      "cell_type": "code",
      "metadata": {
        "id": "xwIhy9KDNHyX",
        "colab_type": "code",
        "colab": {
          "base_uri": "https://localhost:8080/",
          "height": 127
        },
        "outputId": "45994dc0-eff4-49e2-db5e-1660eb6e8c2a"
      },
      "source": [
        "BS= 32\n",
        "# make predictions on the testing set\n",
        "print(\"[INFO] evaluating network...\")\n",
        "predIdxs = model_3_hidden.predict(X_test, batch_size=BS)\n",
        "\n",
        "# for each image in the testing set we need to find the index of the\n",
        "# label with corresponding largest predicted probability\n",
        "predIdxs = np.argmax(predIdxs, axis=1)\n",
        "\n",
        "# show a nicely formatted classification report\n",
        "# print(classification_report(y_test.argmax(axis=1), predIdxs,\n",
        "\t# target_names=lb.classes_))\n",
        "\n",
        "# compute the confusion matrix and and use it to derive the raw\n",
        "# accuracy, sensitivity, and specificity\n",
        "cm = confusion_matrix(y_test.argmax(axis=1), predIdxs)\n",
        "total = sum(sum(cm))\n",
        "acc = (cm[0, 0] + cm[1, 1]) / total\n",
        "sensitivity = cm[0, 0] / (cm[0, 0] + cm[0, 1])\n",
        "specificity = cm[1, 1] / (cm[1, 0] + cm[1, 1])\n",
        "\n",
        "# show the confusion matrix, accuracy, sensitivity, and specificity\n",
        "print(cm)\n",
        "print(\"acc: {:.4f}\".format(acc))\n",
        "print(\"sensitivity: {:.4f}\".format(sensitivity))\n",
        "print(\"specificity: {:.4f}\".format(specificity))\n"
      ],
      "execution_count": null,
      "outputs": [
        {
          "output_type": "stream",
          "text": [
            "[INFO] evaluating network...\n",
            "[[77  0]\n",
            " [ 1 17]]\n",
            "acc: 0.9895\n",
            "sensitivity: 1.0000\n",
            "specificity: 0.9444\n"
          ],
          "name": "stdout"
        }
      ]
    },
    {
      "cell_type": "code",
      "metadata": {
        "id": "w5TiEtmiSOBq",
        "colab_type": "code",
        "colab": {
          "base_uri": "https://localhost:8080/",
          "height": 74
        },
        "outputId": "e156e77a-3eab-4620-916f-014d08591573"
      },
      "source": [
        "print(history.history['loss'])\n",
        "print(history.history['accuracy'])"
      ],
      "execution_count": null,
      "outputs": [
        {
          "output_type": "stream",
          "text": [
            "[0.3535154417008903, 0.11706330073042888, 0.08005980817387946, 0.07926499484968719, 0.05542124406809905, 0.05359921419520432, 0.04338462598070465, 0.04089601196068344, 0.03167648041222374, 0.02398908548335086, 0.02868313650138426, 0.018367132316059687, 0.017839719900241188, 0.02777867007534951, 0.015374589918050406]\n",
            "[0.87002486, 0.9589552, 0.9729478, 0.96952736, 0.98258704, 0.9800995, 0.98320895, 0.98320895, 0.99067163, 0.9916045, 0.9875622, 0.99347013, 0.9928483, 0.99067163, 0.994403]\n"
          ],
          "name": "stdout"
        }
      ]
    },
    {
      "cell_type": "code",
      "metadata": {
        "id": "LrDjygxIMLUE",
        "colab_type": "code",
        "colab": {
          "base_uri": "https://localhost:8080/",
          "height": 35
        },
        "outputId": "488bda76-2406-4a49-9dba-310ccb810ffb"
      },
      "source": [
        "score_model = model_3_hidden.evaluate(x=X_test, y=y_test)"
      ],
      "execution_count": null,
      "outputs": [
        {
          "output_type": "stream",
          "text": [
            "95/95 [==============================] - 1s 14ms/step\n"
          ],
          "name": "stdout"
        }
      ]
    },
    {
      "cell_type": "code",
      "metadata": {
        "id": "6ftC4qGNT0s-",
        "colab_type": "code",
        "colab": {
          "base_uri": "https://localhost:8080/",
          "height": 72
        },
        "outputId": "58d7767f-9603-4ebe-bb36-af871e8e7c33"
      },
      "source": [
        "met = list(zip(model_3_hidden.metrics_names, score_model))\n",
        "print('Scores for test set:')\n",
        "print('{}: {:.4f}'.format(met[0][0], met[0][1]))\n",
        "print('{}: {:.4f}'.format(met[1][0], met[1][1]))"
      ],
      "execution_count": null,
      "outputs": [
        {
          "output_type": "stream",
          "text": [
            "Scores for test set:\n",
            "loss: 0.0356\n",
            "accuracy: 0.9842\n"
          ],
          "name": "stdout"
        }
      ]
    },
    {
      "cell_type": "code",
      "metadata": {
        "id": "qz0VXrCjSVak",
        "colab_type": "code",
        "colab": {
          "base_uri": "https://localhost:8080/",
          "height": 72
        },
        "outputId": "70ce18f3-24ef-4dae-9b87-86d0237b7b0a"
      },
      "source": [
        "print('Average scores for all epochs:')\n",
        "print('accuracy: {:.4f} (+- {:.4f})'.format(np.mean(history.history['accuracy']), np.std(history.history['accuracy'])))\n",
        "print('loss: {:.4f}'.format(np.mean(history.history['loss'])))"
      ],
      "execution_count": null,
      "outputs": [
        {
          "output_type": "stream",
          "text": [
            "Average scores for all epochs:\n",
            "accuracy: 0.9761 (+- 0.0300)\n",
            "loss: 0.0658\n"
          ],
          "name": "stdout"
        }
      ]
    },
    {
      "cell_type": "code",
      "metadata": {
        "id": "uQM5MjsbMx3L",
        "colab_type": "code",
        "colab": {
          "base_uri": "https://localhost:8080/",
          "height": 301
        },
        "outputId": "7d11f446-2b09-410e-8122-633a205b6682"
      },
      "source": [
        "y_pred_test = model_3_hidden.predict(X_test)\n",
        "confmat = confusion_matrix(y_test.argmax(axis=1),y_pred_test.argmax(axis=1))\n",
        "\n",
        "#Plot Confusion Matrix \n",
        "plt.figure(figsize=(4,4))\n",
        "sns.heatmap(confmat, cmap='coolwarm', linecolor='white', linewidths=1, annot=True, fmt='d')\n",
        "plt.title('Confusion Matrix (model_1)')\n",
        "plt.ylabel('True Label')\n",
        "plt.xlabel('Predicted Label')\n",
        "fig = plt.gcf()\n",
        "fig.savefig('Confusion-Matrix-(model_1).png');\n",
        "plt.show();"
      ],
      "execution_count": null,
      "outputs": [
        {
          "output_type": "display_data",
          "data": {
            "image/png": "[encoded data removed]",
            "text/plain": [
              "<Figure size 288x288 with 2 Axes>"
            ]
          },
          "metadata": {
            "tags": []
          }
        }
      ]
    }
  ]
}